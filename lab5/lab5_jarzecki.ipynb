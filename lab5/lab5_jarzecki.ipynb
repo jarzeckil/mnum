{
 "cells": [
  {
   "cell_type": "markdown",
   "id": "3bb253f0",
   "metadata": {},
   "source": [
    "**Metoda gradientów sprzężonych**\\\n",
    "Łukasz Jarzęcki 331697"
   ]
  },
  {
   "cell_type": "code",
   "execution_count": 65,
   "id": "7697b206-ca8a-406b-8311-78704a5e9b7e",
   "metadata": {},
   "outputs": [],
   "source": [
    "import numpy as np"
   ]
  },
  {
   "cell_type": "markdown",
   "id": "bc23c239",
   "metadata": {},
   "source": [
    "1. **Implementacja metody**"
   ]
  },
  {
   "cell_type": "code",
   "execution_count": 66,
   "id": "df2a4843-0341-4cec-a140-c3e0d9e95db8",
   "metadata": {},
   "outputs": [],
   "source": [
    "def cgm_solve(A,b,x0):\n",
    "    x = x0\n",
    "    r = b - A@x0\n",
    "    p = r\n",
    "    iters = 0\n",
    "\n",
    "    while(np.linalg.norm(p) > 1e-30 ):\n",
    "        iters += 1\n",
    "        alfa = (np.dot(r,r))/(np.dot(p, A@p))\n",
    "        x = x + alfa*p\n",
    "        r_old = r\n",
    "        r = r_old - alfa*A@p\n",
    "        beta = (np.dot(r,r))/(np.dot(r_old,r_old))\n",
    "        p = r + beta*p\n",
    "\n",
    "    return x,iters\n",
    "        "
   ]
  },
  {
   "cell_type": "markdown",
   "id": "c89ec5b2",
   "metadata": {},
   "source": [
    "2. **Analiza**"
   ]
  },
  {
   "cell_type": "markdown",
   "id": "cf06abb6",
   "metadata": {},
   "source": [
    "Wczytanie danych"
   ]
  },
  {
   "cell_type": "code",
   "execution_count": 67,
   "id": "e199b411-4501-45ad-a0e6-e2f5ed75c493",
   "metadata": {},
   "outputs": [],
   "source": [
    "A = np.array([[4,2,-1],\n",
    "              [2,5,2],\n",
    "              [-1,2,10]])\n",
    "b = np.array([12,-8,4])\n",
    "\n",
    "x0_0 = np.array([0,0,0])\n",
    "x0_1 = np.array([1,1,1])\n",
    "x0_mixed = np.array([1,0,1])\n"
   ]
  },
  {
   "cell_type": "markdown",
   "id": "ec27395d",
   "metadata": {},
   "source": [
    "Rozwiązanie wzorcowe"
   ]
  },
  {
   "cell_type": "code",
   "execution_count": 68,
   "id": "55816583",
   "metadata": {},
   "outputs": [
    {
     "data": {
      "text/plain": [
       "array([ 5.83206107, -4.70229008,  1.92366412])"
      ]
     },
     "execution_count": 68,
     "metadata": {},
     "output_type": "execute_result"
    }
   ],
   "source": [
    "result_true = np.linalg.solve(A,b)\n",
    "result_true"
   ]
  },
  {
   "cell_type": "markdown",
   "id": "acb861d2",
   "metadata": {},
   "source": [
    "Rozwiązania dla róznych wektorów startowych"
   ]
  },
  {
   "cell_type": "code",
   "execution_count": 69,
   "id": "25db28da",
   "metadata": {},
   "outputs": [
    {
     "name": "stdout",
     "output_type": "stream",
     "text": [
      "result = [ 5.83206107 -4.70229008  1.92366412], iteration count = 6\n"
     ]
    }
   ],
   "source": [
    "result_0, iters_0 = cgm_solve(A,b, x0_0)\n",
    "print(f\"result = {result_0}, iteration count = {iters_0}\")"
   ]
  },
  {
   "cell_type": "code",
   "execution_count": 70,
   "id": "894a020e",
   "metadata": {},
   "outputs": [
    {
     "name": "stdout",
     "output_type": "stream",
     "text": [
      "result = [ 5.83206107 -4.70229008  1.92366412], iteration count = 6\n"
     ]
    }
   ],
   "source": [
    "result_1, iters_1 = cgm_solve(A,b, x0_1)\n",
    "print(f\"result = {result_1}, iteration count = {iters_1}\")"
   ]
  },
  {
   "cell_type": "code",
   "execution_count": 71,
   "id": "a85a020c",
   "metadata": {},
   "outputs": [
    {
     "name": "stdout",
     "output_type": "stream",
     "text": [
      "result = [ 5.83206107 -4.70229008  1.92366412], iteration count = 6\n"
     ]
    }
   ],
   "source": [
    "result_mixed, iters_mixed = cgm_solve(A,b, x0_mixed)\n",
    "print(f\"result = {result_mixed}, iteration count = {iters_mixed}\")"
   ]
  }
 ],
 "metadata": {
  "kernelspec": {
   "display_name": "venv",
   "language": "python",
   "name": "python3"
  },
  "language_info": {
   "codemirror_mode": {
    "name": "ipython",
    "version": 3
   },
   "file_extension": ".py",
   "mimetype": "text/x-python",
   "name": "python",
   "nbconvert_exporter": "python",
   "pygments_lexer": "ipython3",
   "version": "3.13.3"
  }
 },
 "nbformat": 4,
 "nbformat_minor": 5
}
