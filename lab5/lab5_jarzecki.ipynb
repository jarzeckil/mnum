{
 "cells": [
  {
   "cell_type": "code",
   "execution_count": 3,
   "id": "7697b206-ca8a-406b-8311-78704a5e9b7e",
   "metadata": {},
   "outputs": [],
   "source": [
    "import numpy as np"
   ]
  },
  {
   "cell_type": "code",
   "execution_count": 23,
   "id": "e199b411-4501-45ad-a0e6-e2f5ed75c493",
   "metadata": {},
   "outputs": [],
   "source": [
    "A = np.array([[4,2,-1],\n",
    "              [2,5,2],\n",
    "              [-1,2,10]])\n",
    "b = np.array([12,-8,4])\n",
    "\n",
    "x0 = np.array([0,0,0])\n",
    "#x0 = np.array([1,1,1])\n",
    "#x0 = np.array([1,0,1])\n",
    "\n"
   ]
  },
  {
   "cell_type": "code",
   "execution_count": null,
   "id": "df2a4843-0341-4cec-a140-c3e0d9e95db8",
   "metadata": {},
   "outputs": [],
   "source": [
    "def gradient_method(A,b,x0, iters):\n",
    "    x = x0\n",
    "    r0 = b-A@x0\n",
    "    p0 = r0\n",
    "    for k in range(iters):\n",
    "        "
   ]
  }
 ],
 "metadata": {
  "kernelspec": {
   "display_name": "Python 3 (ipykernel)",
   "language": "python",
   "name": "python3"
  },
  "language_info": {
   "codemirror_mode": {
    "name": "ipython",
    "version": 3
   },
   "file_extension": ".py",
   "mimetype": "text/x-python",
   "name": "python",
   "nbconvert_exporter": "python",
   "pygments_lexer": "ipython3",
   "version": "3.11.7"
  }
 },
 "nbformat": 4,
 "nbformat_minor": 5
}
