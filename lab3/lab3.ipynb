{
 "cells": [
  {
   "cell_type": "markdown",
   "id": "2c14288a",
   "metadata": {},
   "source": [
    "**Analiza współczynnika uwarunkowania macierzy**\\\n",
    "Łukasz Jarzęcki 331697"
   ]
  },
  {
   "cell_type": "markdown",
   "id": "45d62bf5",
   "metadata": {},
   "source": [
    "Kiedy macierz jest źle uwarunkowana:\n",
    "    - kiedy wartości własne są małe w porównaniu z największą wartością własną\n",
    "    - kiedy macierzy blisko jest do bycia macierzą osobliwą\n",
    "\n",
    "Poprawianie współczynnika uwarunkowania:\n",
    "    - skalowanie macierzy\n",
    "    - regularizacja - dodanie małej wartości na przekątnej\n",
    "    - prekondycjonowanie\n",
    "    - wybór odpowiedniej metody numerycznej"
   ]
  },
  {
   "cell_type": "code",
   "execution_count": 1,
   "id": "4d0eea03",
   "metadata": {},
   "outputs": [],
   "source": [
    "import numpy as np\n",
    "import re\n",
    "from scipy.io import loadmat\n",
    "import time\n",
    "import matplotlib.pyplot as plt"
   ]
  },
  {
   "cell_type": "markdown",
   "id": "e89a3c8c",
   "metadata": {},
   "source": [
    "1. **Funkcje pomocnicze**"
   ]
  },
  {
   "cell_type": "code",
   "execution_count": 3,
   "id": "b3fea262",
   "metadata": {},
   "outputs": [],
   "source": [
    "def load_A_b_from_m_file(filename):\n",
    "    with open(filename, 'r') as f:\n",
    "        content = f.read()\n",
    "\n",
    "    content = re.sub(r'%.*', '', content)\n",
    "\n",
    "    A_match = re.search(r'A\\s*=\\s*\\[(.*?)\\];', content, re.DOTALL)\n",
    "    if not A_match:\n",
    "        raise ValueError(\"Nie znaleziono macierzy A\")\n",
    "    A_rows = A_match.group(1).strip().split('\\n')\n",
    "    A = [list(map(float, row.strip().split())) for row in A_rows]\n",
    "\n",
    "    b_match = re.search(r'b\\s*=\\s*\\[(.*?)\\](\\'?);', content, re.DOTALL)\n",
    "    if not b_match:\n",
    "        raise ValueError(\"Nie znaleziono wektora b\")\n",
    "    b_data = b_match.group(1).strip().replace('\\n', ' ').split()\n",
    "    b = np.array(list(map(float, b_data)))\n",
    "    if b_match.group(2) == \"'\":  # był apostrof, więc wektor pionowy\n",
    "        b = b.reshape(-1, 1)\n",
    "    b = b.flatten()\n",
    "    return np.array(A), b"
   ]
  },
  {
   "cell_type": "code",
   "execution_count": 2,
   "id": "a4dbaf33",
   "metadata": {},
   "outputs": [],
   "source": [
    "def load_A_b_from_mat_file(filename):\n",
    "    data = loadmat(filename)  # ścieżka do Twojego pliku .mat\n",
    "    A = data['A']\n",
    "    b = data['b']\n",
    "    return A,b.flatten()"
   ]
  },
  {
   "cell_type": "code",
   "execution_count": 4,
   "id": "019352b1",
   "metadata": {},
   "outputs": [],
   "source": [
    "def generate_matrices(n):\n",
    "\n",
    "    A = np.random.uniform(-1, 1, (n, n))\n",
    "    for i in range(n):\n",
    "        A[i, i] = np.sum(np.abs(A[i])) + 1  # zagwarantuj dominację przekątnej\n",
    "\n",
    "    b = np.random.uniform(-10, 10, n)\n",
    "\n",
    "    return A, b"
   ]
  },
  {
   "cell_type": "code",
   "execution_count": 62,
   "id": "f5dc2141",
   "metadata": {},
   "outputs": [],
   "source": [
    "def generate_spd(n):\n",
    "    A = np.random.rand(n,n)\n",
    "\n",
    "    return A.T@A"
   ]
  },
  {
   "cell_type": "markdown",
   "id": "737b472d",
   "metadata": {},
   "source": [
    "2. **Poprawianie współczynnika uwarunkowania**"
   ]
  },
  {
   "cell_type": "markdown",
   "id": "146115a4",
   "metadata": {},
   "source": [
    "Poprzez skalowanie"
   ]
  },
  {
   "cell_type": "code",
   "execution_count": null,
   "id": "ecfcd0c2",
   "metadata": {},
   "outputs": [],
   "source": [
    "A,b = load_A_b_from_mat_file(\"pink.mat\") #pink - macierz źle uwarunkowana"
   ]
  },
  {
   "cell_type": "code",
   "execution_count": 23,
   "id": "835b8231",
   "metadata": {},
   "outputs": [
    {
     "name": "stdout",
     "output_type": "stream",
     "text": [
      "przed skalowaniem: 1844.6339859461466\n",
      "po skalowaniu: 1.0000000000000007\n"
     ]
    }
   ],
   "source": [
    "print(f\"przed skalowaniem: {np.linalg.cond(A)}\")\n",
    " \n",
    "S = np.diag(1/np.sqrt(np.diag(A)))\n",
    "A_scaled = S*A*S\n",
    "\n",
    "print(f\"po skalowaniu: {np.linalg.cond(A_scaled)}\")\n"
   ]
  },
  {
   "cell_type": "markdown",
   "id": "6392492d",
   "metadata": {},
   "source": [
    "3. **Wyznaczanie współczynnika uwarunkowania metodą iteracyjną**"
   ]
  },
  {
   "cell_type": "markdown",
   "id": "4e30ee2a",
   "metadata": {},
   "source": [
    "Implementacja metody"
   ]
  },
  {
   "cell_type": "code",
   "execution_count": null,
   "id": "d37e011c",
   "metadata": {},
   "outputs": [],
   "source": [
    "def calc_max_sing_val(A):\n",
    "    stop = 10e-6\n",
    "\n",
    "    x = np.ones(A.shape[0])\n",
    "    x /= np.linalg.norm(x)\n",
    "\n",
    "    lambda_old = 0\n",
    "    \n",
    "\n",
    "    while(abs(lambda_old-lambda_new)/lambda_old)>stop):\n",
    "        x_next = A@x\n",
    "        x_next = x_next/np.linalg.norm(x_next)\n",
    "\n",
    "        lambda_new = x_next.T @ A @ x_next\n",
    "\n",
    "        x = x_next\n",
    "\n",
    "    return lambda_new\n",
    "        "
   ]
  },
  {
   "cell_type": "code",
   "execution_count": 65,
   "id": "ff56712f",
   "metadata": {},
   "outputs": [
    {
     "data": {
      "text/plain": [
       "array([[0.03765903, 0.1344182 ],\n",
       "       [0.1344182 , 0.4800045 ]])"
      ]
     },
     "execution_count": 65,
     "metadata": {},
     "output_type": "execute_result"
    }
   ],
   "source": [
    "A = generate_spd(2)\n",
    "A"
   ]
  },
  {
   "cell_type": "code",
   "execution_count": 82,
   "id": "33959929",
   "metadata": {},
   "outputs": [
    {
     "name": "stdout",
     "output_type": "stream",
     "text": [
      "1.0000041688335264\n"
     ]
    },
    {
     "name": "stderr",
     "output_type": "stream",
     "text": [
      "/tmp/ipykernel_12564/1543985685.py:9: RuntimeWarning: divide by zero encountered in scalar divide\n",
      "  while(abs(lambda_old-lambda_new)/abs(lambda_old)>stop):\n"
     ]
    }
   ],
   "source": [
    "A = np.array([\n",
    "    [22, 21, -8, 4],\n",
    "    [21, 49, 11, 39],\n",
    "    [-8, 11, 60, -19],\n",
    "    [4, 39, -19, 135]\n",
    "])\n",
    "\n",
    "print(calc_max_sing_val(A))"
   ]
  }
 ],
 "metadata": {
  "kernelspec": {
   "display_name": "venv",
   "language": "python",
   "name": "python3"
  },
  "language_info": {
   "codemirror_mode": {
    "name": "ipython",
    "version": 3
   },
   "file_extension": ".py",
   "mimetype": "text/x-python",
   "name": "python",
   "nbconvert_exporter": "python",
   "pygments_lexer": "ipython3",
   "version": "3.13.3"
  }
 },
 "nbformat": 4,
 "nbformat_minor": 5
}
