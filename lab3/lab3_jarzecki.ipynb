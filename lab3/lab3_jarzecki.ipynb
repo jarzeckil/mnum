{
 "cells": [
  {
   "cell_type": "markdown",
   "id": "2c14288a",
   "metadata": {},
   "source": [
    "**Analiza współczynnika uwarunkowania macierzy**\\\n",
    "Łukasz Jarzęcki 331697"
   ]
  },
  {
   "cell_type": "code",
   "execution_count": 345,
   "id": "4d0eea03",
   "metadata": {},
   "outputs": [],
   "source": [
    "import numpy as np\n",
    "from scipy.io import loadmat"
   ]
  },
  {
   "cell_type": "markdown",
   "id": "e89a3c8c",
   "metadata": {},
   "source": [
    "1. **Funkcje pomocnicze**"
   ]
  },
  {
   "cell_type": "code",
   "execution_count": 346,
   "id": "a4dbaf33",
   "metadata": {},
   "outputs": [],
   "source": [
    "def load_A_b_from_mat_file(filename):\n",
    "    data = loadmat(filename)  # ścieżka do Twojego pliku .mat\n",
    "    A = data['A']\n",
    "    b = data['b']\n",
    "    return A,b.flatten()"
   ]
  },
  {
   "cell_type": "code",
   "execution_count": 347,
   "id": "d00f063b",
   "metadata": {},
   "outputs": [],
   "source": [
    "def is_symmetric(A, tol=1e-8):\n",
    "    return np.allclose(A, A.T, atol=tol)"
   ]
  },
  {
   "cell_type": "markdown",
   "id": "737b472d",
   "metadata": {},
   "source": [
    "2. **Poprawianie współczynnika uwarunkowania**"
   ]
  },
  {
   "cell_type": "markdown",
   "id": "146115a4",
   "metadata": {},
   "source": [
    "Poprzez skalowanie"
   ]
  },
  {
   "cell_type": "code",
   "execution_count": 348,
   "id": "ecfcd0c2",
   "metadata": {},
   "outputs": [],
   "source": [
    "C,b = load_A_b_from_mat_file(\"pink.mat\") #pink - macierz źle uwarunkowana"
   ]
  },
  {
   "cell_type": "code",
   "execution_count": 349,
   "id": "835b8231",
   "metadata": {},
   "outputs": [
    {
     "name": "stdout",
     "output_type": "stream",
     "text": [
      "przed skalowaniem: 1844.6339859461466\n",
      "po skalowaniu: 1.0000000000000007\n"
     ]
    }
   ],
   "source": [
    "print(f\"przed skalowaniem: {np.linalg.cond(C)}\")\n",
    " \n",
    "S = np.diag(1/np.sqrt(np.diag(C)))\n",
    "A_scaled = S*C*S\n",
    "\n",
    "print(f\"po skalowaniu: {np.linalg.cond(A_scaled)}\")\n"
   ]
  },
  {
   "cell_type": "markdown",
   "id": "6392492d",
   "metadata": {},
   "source": [
    "3. **Wyznaczanie współczynnika uwarunkowania metodą iteracyjną**"
   ]
  },
  {
   "cell_type": "markdown",
   "id": "4e30ee2a",
   "metadata": {},
   "source": [
    "Implementacja metody"
   ]
  },
  {
   "cell_type": "code",
   "execution_count": 350,
   "id": "d37e011c",
   "metadata": {},
   "outputs": [],
   "source": [
    "def calc_max_sing_val(C):\n",
    "    stop = 1e-6  #\n",
    "    A = C.T @ C  \n",
    "\n",
    "    x = np.ones(A.shape[0])\n",
    "    x /= np.linalg.norm(x)\n",
    "\n",
    "    lambda_old = 0\n",
    "    lambda_new = x.T @ A @ x\n",
    "\n",
    "    while abs(lambda_new - lambda_old) / (abs(lambda_old) + 1e-10) > stop:\n",
    "        lambda_old = lambda_new\n",
    "        x = A @ x\n",
    "        x /= np.linalg.norm(x)\n",
    "        lambda_new = x.T @ A @ x\n",
    "\n",
    "    return np.sqrt(lambda_new)"
   ]
  },
  {
   "cell_type": "code",
   "execution_count": 351,
   "id": "e27367ca",
   "metadata": {},
   "outputs": [],
   "source": [
    "def calc_min_sing_val(A, lam):\n",
    "    stop = 1e-6  \n",
    "    B = A - np.eye(A.shape[0])*lam\n",
    "\n",
    "    x = np.ones(B.shape[0])\n",
    "    x /= np.linalg.norm(x)\n",
    "\n",
    "    lambda_old = 0\n",
    "    lambda_new = x.T @ B @ x\n",
    "\n",
    "    while abs(lambda_new - lambda_old) / (abs(lambda_old) + 1e-10) > stop:\n",
    "        lambda_old = lambda_new\n",
    "        x = B @ x\n",
    "        x /= np.linalg.norm(x)\n",
    "        lambda_new = x.T @ B @ x\n",
    "\n",
    "    return lambda_new"
   ]
  },
  {
   "cell_type": "code",
   "execution_count": 352,
   "id": "37a458e9",
   "metadata": {},
   "outputs": [],
   "source": [
    "def calc_cond(C):\n",
    "    C_sym = C.T@C\n",
    "\n",
    "    lambda_max = calc_max_sing_val(C_sym)\n",
    "    lambda_min = calc_min_sing_val(C_sym,lambda_max) + lambda_max\n",
    "\n",
    "\n",
    "    return np.sqrt(lambda_max/lambda_min)"
   ]
  },
  {
   "cell_type": "code",
   "execution_count": 353,
   "id": "ebd7991d",
   "metadata": {},
   "outputs": [],
   "source": [
    "def get_result(A):\n",
    "    result_impl = calc_cond(A)\n",
    "    result_ready = np.linalg.cond(A)\n",
    "    diff = abs(result_ready - result_impl) / result_ready * 100\n",
    "\n",
    "    return result_impl, result_ready, diff"
   ]
  },
  {
   "cell_type": "markdown",
   "id": "2a1cca65",
   "metadata": {},
   "source": [
    "Wyznaczenie wspołczynnika i błędu dla macierzy C z podręcznika"
   ]
  },
  {
   "cell_type": "code",
   "execution_count": 354,
   "id": "1aaf66ac",
   "metadata": {},
   "outputs": [
    {
     "name": "stdout",
     "output_type": "stream",
     "text": [
      "Współczynnik obliczony zaimplementowaną funkcją: 6.431575026765086\n",
      "Współczynnik obliczony wbudowaną funkcją w numpy: 6.431698388238537\n",
      "różnica: 0.0019180232965693217%\n"
     ]
    }
   ],
   "source": [
    "C = np.array([\n",
    "    [4,2,-5,2],\n",
    "    [1,5,3,9],\n",
    "    [2,2,5,-7],\n",
    "    [1,4,-1,1]\n",
    "])\n",
    "\n",
    "result_impl, result_ready, diff = get_result(C)\n",
    " \n",
    "\n",
    "print(f\"Współczynnik obliczony zaimplementowaną funkcją: {result_impl}\")\n",
    "print(f\"Współczynnik obliczony wbudowaną funkcją w numpy: {result_ready}\")\n",
    "print(f\"różnica: {diff}%\")"
   ]
  },
  {
   "cell_type": "markdown",
   "id": "0667cbd0",
   "metadata": {},
   "source": [
    "Jak możemy zauważyć, zaimplementowana metoda daje taki sam wynik różniący się o ok. 0,002%"
   ]
  },
  {
   "cell_type": "markdown",
   "id": "64c9170d",
   "metadata": {},
   "source": [
    "4. **Analiza wpływu własności macierzy na współczynnik uwarunkowania**"
   ]
  },
  {
   "cell_type": "markdown",
   "id": "559db3bc",
   "metadata": {},
   "source": [
    "Macierze z plików"
   ]
  },
  {
   "cell_type": "code",
   "execution_count": 355,
   "id": "aa4bea04",
   "metadata": {},
   "outputs": [
    {
     "name": "stdout",
     "output_type": "stream",
     "text": [
      "Właściwości macierzy z blue.mat: kształt: (100, 100), symetryczność: False, błąd metody: 95.66196091084367, współczynnik wyliczony: 41.307139045529865, współczynnik gotowy: 952.2076264546396\n",
      "Właściwości macierzy z orange.mat: kształt: (100, 100), symetryczność: False, błąd metody: 95.6619608797047, współczynnik wyliczony: 41.30713901693265, współczynnik gotowy: 952.2076189603557\n",
      "Właściwości macierzy z pink.mat: kształt: (100, 100), symetryczność: False, błąd metody: 97.75137218105002, współczynnik wyliczony: 41.47895296579108, współczynnik gotowy: 1844.6339859461466\n"
     ]
    }
   ],
   "source": [
    "blue,b = load_A_b_from_mat_file(\"blue.mat\") #dobrze \n",
    "orange,b = load_A_b_from_mat_file(\"orange.mat\") #dobrze\n",
    "pink,b = load_A_b_from_mat_file(\"pink.mat\") #zle\n",
    "\n",
    "result_impl, result_ready, diff = get_result(blue)\n",
    "print(f\"Właściwości macierzy z blue.mat: kształt: {blue.shape}, symetryczność: {is_symmetric(blue)}, błąd metody: {diff}, współczynnik wyliczony: {result_impl}, współczynnik gotowy: {result_ready}\")\n",
    "\n",
    "result_impl, result_ready, diff = get_result(orange)\n",
    "print(f\"Właściwości macierzy z orange.mat: kształt: {orange.shape}, symetryczność: {is_symmetric(orange)}, błąd metody: {diff}, współczynnik wyliczony: {result_impl}, współczynnik gotowy: {result_ready}\")\n",
    "\n",
    "result_impl, result_ready, diff = get_result(pink)\n",
    "print(f\"Właściwości macierzy z pink.mat: kształt: {pink.shape}, symetryczność: {is_symmetric(pink)}, błąd metody: {diff}, współczynnik wyliczony: {result_impl}, współczynnik gotowy: {result_ready}\")\n"
   ]
  },
  {
   "cell_type": "markdown",
   "id": "4664654d",
   "metadata": {},
   "source": [
    "Macierze wygenerowane"
   ]
  },
  {
   "cell_type": "code",
   "execution_count": 356,
   "id": "ab2e9460",
   "metadata": {},
   "outputs": [
    {
     "name": "stdout",
     "output_type": "stream",
     "text": [
      "\n",
      "A (4x4, niesymetryczna)\n",
      "współczynnik wyliczony:      6.431575e+00\n",
      "współczynnik gotowy: 6.431698e+00\n",
      "błąd metody:  0.001918%\n",
      "\n",
      "B (4x4, symetryczna)\n",
      "współczynnik wyliczony:      6.854102e+00\n",
      "współczynnik gotowy: 9.472136e+00\n",
      "błąd metody:  27.639320%\n",
      "\n",
      "C (10x10, losowa)\n",
      "współczynnik wyliczony:      4.571885e+01\n",
      "współczynnik gotowy: 2.728141e+02\n",
      "błąd metody:  83.241756%\n",
      "\n",
      "D (100x100, losowa)\n",
      "współczynnik wyliczony:      4.550645e+01\n",
      "współczynnik gotowy: 1.883439e+03\n",
      "błąd metody:  97.583864%\n"
     ]
    }
   ],
   "source": [
    "matrices = {\n",
    "    \"A (4x4, niesymetryczna)\": np.array([\n",
    "        [4, 2, -5, 2],\n",
    "        [1, 5, 3, 9],\n",
    "        [2, 2, 5, -7],\n",
    "        [1, 4, -1, 1]\n",
    "    ]),\n",
    "    \"B (4x4, symetryczna)\": np.array([\n",
    "        [2, -1, 0, 0],\n",
    "        [-1, 2, -1, 0],\n",
    "        [0, -1, 2, -1],\n",
    "        [0, 0, -1, 2]\n",
    "    ]),\n",
    "    \"C (10x10, losowa)\": np.random.rand(10, 10),\n",
    "    \"D (100x100, losowa)\": np.random.rand(100, 100)\n",
    "}\n",
    "\n",
    "for name, M in matrices.items():\n",
    "\n",
    "    result_impl, result_ready, diff = get_result(M)\n",
    "    \n",
    "    print(f\"\\n{name}\")\n",
    "    print(f\"współczynnik wyliczony:      {result_impl:.6e}\")\n",
    "    print(f\"współczynnik gotowy: {result_ready:.6e}\")\n",
    "    print(f\"błąd metody:  {diff:.6f}%\")"
   ]
  },
  {
   "cell_type": "markdown",
   "id": "ecca4e35",
   "metadata": {},
   "source": [
    "5. **Wnioski**"
   ]
  },
  {
   "cell_type": "markdown",
   "id": "933cea3d",
   "metadata": {},
   "source": [
    "Na podstawie powyższych wyników można wyciągnąć następujące wnioski:\\\n",
    "    - dla metod numerycznych im większa macierz, tym większy błąd metody - może być to spowodowane kumulowaniem sie błędów dla dużej liczby iteracji\\\n",
    "    - symetryczność i niesymetryczność macierzy nie jest najważniejszym czynnikiem wpływającym na współczynnik uwarunkowania\n",
    "    \n",
    "\n",
    "\n",
    "Kiedy macierz jest źle uwarunkowana:\\\n",
    "    - kiedy wartości własne są małe w porównaniu z największą wartością własną\\\n",
    "    - kiedy macierzy blisko jest do bycia macierzą osobliwą\\\n",
    "\n",
    "Poprawianie współczynnika uwarunkowania:\\\n",
    "    - skalowanie macierzy\\\n",
    "    - regularizacja - dodanie małej wartości na przekątnej\\\n",
    "    - prekondycjonowanie\\\n",
    "    - wybór odpowiedniej metody numerycznej\\"
   ]
  }
 ],
 "metadata": {
  "kernelspec": {
   "display_name": "venv",
   "language": "python",
   "name": "python3"
  },
  "language_info": {
   "codemirror_mode": {
    "name": "ipython",
    "version": 3
   },
   "file_extension": ".py",
   "mimetype": "text/x-python",
   "name": "python",
   "nbconvert_exporter": "python",
   "pygments_lexer": "ipython3",
   "version": "3.13.3"
  }
 },
 "nbformat": 4,
 "nbformat_minor": 5
}
