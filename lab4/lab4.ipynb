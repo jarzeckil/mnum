{
 "cells": [
  {
   "cell_type": "markdown",
   "id": "a554f7a4",
   "metadata": {},
   "source": [
    "**Numeryczne rozwiązywanie równań różniczkowych**\\\n",
    "Łukasz Jarzęcki 331697"
   ]
  },
  {
   "cell_type": "code",
   "execution_count": 49,
   "id": "45051850",
   "metadata": {},
   "outputs": [],
   "source": [
    "import numpy as np\n",
    "import re\n",
    "from scipy.io import loadmat\n",
    "import time\n",
    "import matplotlib.pyplot as plt\n"
   ]
  },
  {
   "cell_type": "markdown",
   "id": "89aa637e",
   "metadata": {},
   "source": [
    "1. **Implementacje metod**"
   ]
  },
  {
   "cell_type": "markdown",
   "id": "0292811b",
   "metadata": {},
   "source": [
    "1.1 **Metoda Eulera**"
   ]
  },
  {
   "cell_type": "code",
   "execution_count": 50,
   "id": "de5590f0",
   "metadata": {},
   "outputs": [
    {
     "name": "stdout",
     "output_type": "stream",
     "text": [
      "[1.  1.1 1.2 1.3 1.4]\n",
      "[0.5        0.575      0.68410625 0.85258674 1.13607936]\n"
     ]
    }
   ],
   "source": [
    "def euler_base(x0, y0, h0, f_par, iters):\n",
    "    x = x0\n",
    "    y = y0\n",
    "    h = h0\n",
    "    f = f_par\n",
    "\n",
    "    x_vec = np.zeros(iters)\n",
    "    y_vec = np.zeros(iters)\n",
    "    x_vec[0] = x\n",
    "    y_vec[0] = y\n",
    "\n",
    "\n",
    "    for i in range(1, iters):\n",
    "        y = y+h*f(x,y)\n",
    "        x = x+h\n",
    "        x_vec[i] = x\n",
    "        y_vec[i] = y\n",
    "        #print(f\"{i}: x: {x}\\t y: {y}\")\n",
    "\n",
    "    return x_vec, y_vec\n",
    "\n",
    "\n",
    "x,y = euler_base(1,0.5,0.1, lambda x,y: 3*x*y**2, 5)\n",
    "print(x)\n",
    "print(y)"
   ]
  },
  {
   "cell_type": "markdown",
   "id": "11d2a07b",
   "metadata": {},
   "source": [
    "1.2 **Zmodyfikowana metoda Eulera**"
   ]
  },
  {
   "cell_type": "code",
   "execution_count": 51,
   "id": "5e683d47",
   "metadata": {},
   "outputs": [
    {
     "name": "stdout",
     "output_type": "stream",
     "text": [
      "[1.  1.1 1.2 1.3 1.4]\n",
      "[0.5        0.59100547 0.73615771 0.99680658 1.57087001]\n"
     ]
    }
   ],
   "source": [
    "def euler_mod(x0, y0, h0, f_par, iters):\n",
    "    x = x0\n",
    "    y = y0\n",
    "    h = h0\n",
    "    f = f_par\n",
    "\n",
    "    x_vec = np.zeros(iters)\n",
    "    y_vec = np.zeros(iters)\n",
    "    x_vec[0] = x\n",
    "    y_vec[0] = y\n",
    "\n",
    "    for i in range(1, iters):\n",
    "        y = y+h*f(x+0.5*h,y+0.5*h*f(x,y))\n",
    "        x = x+h\n",
    "        x_vec[i] = x\n",
    "        y_vec[i] = y\n",
    "        #print(f\"{i}: x: {x}\\t y: {y}\")\n",
    "\n",
    "    return x_vec, y_vec\n",
    "\n",
    "x,y = euler_mod(1,0.5,0.1, lambda x,y: 3*x*y**2, 5)\n",
    "print(x)\n",
    "print(y)"
   ]
  },
  {
   "cell_type": "markdown",
   "id": "c7a102f4",
   "metadata": {},
   "source": [
    "1.3 **Metoda Rungego-Kutty**"
   ]
  },
  {
   "cell_type": "code",
   "execution_count": 52,
   "id": "3bf479e7",
   "metadata": {},
   "outputs": [
    {
     "name": "stdout",
     "output_type": "stream",
     "text": [
      "[1.  1.1 1.2 1.3 1.4]\n",
      "[0.5        0.58978123 0.73293872 0.99163859 1.5819282 ]\n"
     ]
    }
   ],
   "source": [
    "def runge_kutty(x0, y0, h0, f_par, iters):\n",
    "    x = x0\n",
    "    y = y0\n",
    "    h = h0\n",
    "    f = f_par\n",
    "\n",
    "    x_vec = np.zeros(iters)\n",
    "    y_vec = np.zeros(iters)\n",
    "    x_vec[0] = x\n",
    "    y_vec[0] = y\n",
    "\n",
    "    K1 = lambda x,y: f(x,y)\n",
    "    K2 = lambda x,y: f(x+0.5*h, y+0.5*h*K1(x,y))\n",
    "    K3 = lambda x,y: f(x+0.5*h, y+0.5*h*K2(x,y))\n",
    "    K4 = lambda x,y: f(x+0.5*h, y+0.5*h*K3(x,y))\n",
    "\n",
    "    for i in range(1, iters):\n",
    "        y = y + (h/6)*(K1(x,y) + 2*K2(x,y)+2*K3(x,y) + K4(x,y))\n",
    "        x = x+h\n",
    "        x_vec[i] = x\n",
    "        y_vec[i] = y\n",
    "        #print(f\"{i}: x: {x}\\t y: {y}\")\n",
    "\n",
    "    return x_vec, y_vec\n",
    "\n",
    "x,y = runge_kutty(1,0.5,0.1, lambda x,y: 3*x*y**2, 5)\n",
    "print(x)\n",
    "print(y)"
   ]
  },
  {
   "cell_type": "markdown",
   "id": "3791c4b3",
   "metadata": {},
   "source": [
    "1.4 **Metoda Heuna**"
   ]
  },
  {
   "cell_type": "code",
   "execution_count": 53,
   "id": "982bd6b1",
   "metadata": {},
   "outputs": [
    {
     "name": "stdout",
     "output_type": "stream",
     "text": [
      "[1.  1.1 1.2 1.3 1.4]\n",
      "[0.5        0.59205312 0.74004802 1.00990937 1.6249196 ]\n"
     ]
    }
   ],
   "source": [
    "def heun(x0, y0, h0, f_par, iters):\n",
    "    x = x0\n",
    "    y = y0\n",
    "    h = h0\n",
    "    f = f_par\n",
    "\n",
    "    x_vec = np.zeros(iters)\n",
    "    y_vec = np.zeros(iters)\n",
    "    x_vec[0] = x\n",
    "    y_vec[0] = y\n",
    "\n",
    "    for i in range(1, iters):\n",
    "        y = y + 0.5*h* (f(x,y) + f(x+h,y+h*f(x,y)))\n",
    "        x = x+h\n",
    "\n",
    "        x_vec[i] = x\n",
    "        y_vec[i] = y\n",
    "        #print(f\"{i}: x: {x}\\t y: {y}\")\n",
    "\n",
    "    return x_vec, y_vec\n",
    "\n",
    "x,y = heun(1,0.5,0.1, lambda x,y: 3*x*y**2, 5)\n",
    "print(x)\n",
    "print(y)"
   ]
  },
  {
   "cell_type": "markdown",
   "id": "582a5e62",
   "metadata": {},
   "source": [
    "2. **Analiza powyższych metod numerycznych**"
   ]
  },
  {
   "cell_type": "code",
   "execution_count": 55,
   "id": "a462e9ab",
   "metadata": {},
   "outputs": [],
   "source": [
    "f = lambda x,y: (4*x)/((1+x**2)**(1/3))"
   ]
  }
 ],
 "metadata": {
  "kernelspec": {
   "display_name": "venv",
   "language": "python",
   "name": "python3"
  },
  "language_info": {
   "codemirror_mode": {
    "name": "ipython",
    "version": 3
   },
   "file_extension": ".py",
   "mimetype": "text/x-python",
   "name": "python",
   "nbconvert_exporter": "python",
   "pygments_lexer": "ipython3",
   "version": "3.13.3"
  }
 },
 "nbformat": 4,
 "nbformat_minor": 5
}
