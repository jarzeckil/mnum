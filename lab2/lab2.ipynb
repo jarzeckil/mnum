{
 "cells": [
  {
   "cell_type": "code",
   "execution_count": 80,
   "id": "60f7bef4",
   "metadata": {},
   "outputs": [],
   "source": [
    "import numpy as np\n",
    "import re\n",
    "from scipy.io import loadmat\n",
    "import time"
   ]
  },
  {
   "cell_type": "markdown",
   "id": "5c45989c",
   "metadata": {},
   "source": [
    "1. **Tworzenie macierzy górnotrójkątnej za pomocą eliminacji Gaussa**"
   ]
  },
  {
   "cell_type": "code",
   "execution_count": 81,
   "id": "4a4bf3f6",
   "metadata": {},
   "outputs": [
    {
     "data": {
      "text/plain": [
       "array([[ 1,  2,  5],\n",
       "       [ 3,  8,  1],\n",
       "       [ 2, -1,  4]])"
      ]
     },
     "execution_count": 81,
     "metadata": {},
     "output_type": "execute_result"
    }
   ],
   "source": [
    "A = np.array([[1,2,5],\n",
    "            [3,8,1],\n",
    "            [2,-1,4]])\n",
    "A"
   ]
  },
  {
   "cell_type": "code",
   "execution_count": 82,
   "id": "f6741dab",
   "metadata": {},
   "outputs": [
    {
     "data": {
      "text/plain": [
       "array([[  1,   2,   5],\n",
       "       [  0,   2, -14],\n",
       "       [  0,   0, -41]])"
      ]
     },
     "execution_count": 82,
     "metadata": {},
     "output_type": "execute_result"
    }
   ],
   "source": [
    "n = A.shape[0]\n",
    "for i in range(0,n):\n",
    "    for j in range(i+1,n):\n",
    "        e = A[j][i]/A[i][i]\n",
    "        for k in range(i,n):\n",
    "            A[j][k] = A[j][k]-e*A[i][k]\n",
    "A\n"
   ]
  },
  {
   "cell_type": "markdown",
   "id": "3ed304af",
   "metadata": {},
   "source": [
    "2. **Implementacje metod Jacobiego i Gaussa-Siedla**"
   ]
  },
  {
   "cell_type": "code",
   "execution_count": 83,
   "id": "2616e6e2",
   "metadata": {},
   "outputs": [],
   "source": [
    "def jacobi(A, b, iterations):\n",
    "    n = b.size\n",
    "    x = np.zeros(n)\n",
    "    x_new = np.zeros(n)\n",
    "\n",
    "    for iter in range(iterations):\n",
    "        for i in range(n):\n",
    "            sum = 0\n",
    "            for j in range(n):\n",
    "                if(j!=i):\n",
    "                    sum += A[i][j]*x[j] \n",
    "            x_new[i] = 1/A[i][i]*(b[i]-sum)\n",
    "        x = x_new.copy()\n",
    "\n",
    "    return x"
   ]
  },
  {
   "cell_type": "code",
   "execution_count": 84,
   "id": "1a497bf3",
   "metadata": {},
   "outputs": [],
   "source": [
    "def gauss_seidl(A, b, iterations):\n",
    "    n = b.size\n",
    "    x = np.zeros(n)\n",
    "    for iter in range(iterations):\n",
    "        for i in range(n):\n",
    "            sum = 0\n",
    "            for j in range(n):\n",
    "                if(j!=i):\n",
    "                    sum += A[i][j]*x[j]\n",
    "            x[i] = 1/A[i][i]*(b[i]-sum)\n",
    "\n",
    "    return x"
   ]
  },
  {
   "cell_type": "markdown",
   "id": "99804994",
   "metadata": {},
   "source": [
    "3. **Funkcje pomocnicze**"
   ]
  },
  {
   "cell_type": "code",
   "execution_count": 85,
   "id": "4c2f8af8",
   "metadata": {},
   "outputs": [],
   "source": [
    "def load_A_b_from_m_file(filename):\n",
    "    with open(filename, 'r') as f:\n",
    "        content = f.read()\n",
    "\n",
    "    content = re.sub(r'%.*', '', content)\n",
    "\n",
    "    A_match = re.search(r'A\\s*=\\s*\\[(.*?)\\];', content, re.DOTALL)\n",
    "    if not A_match:\n",
    "        raise ValueError(\"Nie znaleziono macierzy A\")\n",
    "    A_rows = A_match.group(1).strip().split('\\n')\n",
    "    A = [list(map(float, row.strip().split())) for row in A_rows]\n",
    "\n",
    "    b_match = re.search(r'b\\s*=\\s*\\[(.*?)\\](\\'?);', content, re.DOTALL)\n",
    "    if not b_match:\n",
    "        raise ValueError(\"Nie znaleziono wektora b\")\n",
    "    b_data = b_match.group(1).strip().replace('\\n', ' ').split()\n",
    "    b = np.array(list(map(float, b_data)))\n",
    "    if b_match.group(2) == \"'\":  # był apostrof, więc wektor pionowy\n",
    "        b = b.reshape(-1, 1)\n",
    "    b = b.flatten()\n",
    "    return np.array(A), b"
   ]
  },
  {
   "cell_type": "markdown",
   "id": "e73332da",
   "metadata": {},
   "source": [
    "Funkcje obliczający błąd względny wyniku danej metody względem wyniku dokładnego"
   ]
  },
  {
   "cell_type": "code",
   "execution_count": 86,
   "id": "d4b7a001",
   "metadata": {},
   "outputs": [],
   "source": [
    "def calc_error_jacobi(A,b, iter):\n",
    "    x = jacobi(A,b, iter)\n",
    "    x_exact = np.linalg.solve(A,b)\n",
    "    abs_error = np.linalg.norm(x - x_exact)\n",
    "    r_error = abs_error/np.linalg.norm(x_exact)\n",
    "\n",
    "    return r_error"
   ]
  },
  {
   "cell_type": "code",
   "execution_count": 87,
   "id": "dda600a6",
   "metadata": {},
   "outputs": [],
   "source": [
    "def calc_error_gauss_seidl(A,b, iter):\n",
    "    x = gauss_seidl(A,b, iter)\n",
    "    x_exact = np.linalg.solve(A,b)\n",
    "    abs_error = np.linalg.norm(x - x_exact)\n",
    "    r_error = abs_error/np.linalg.norm(x_exact)\n",
    "\n",
    "    return r_error"
   ]
  },
  {
   "cell_type": "markdown",
   "id": "0cead0b1",
   "metadata": {},
   "source": [
    "Funkcje obliczające czas działania danej metody dla danej liczby iteracji\n"
   ]
  },
  {
   "cell_type": "code",
   "execution_count": 88,
   "id": "eb9a0382",
   "metadata": {},
   "outputs": [],
   "source": [
    "def time_jacobi(A,b, iter):\n",
    "    start = time.perf_counter()        # czas startu (wysoka rozdzielczość)\n",
    "    jacobi(A,b,iter)\n",
    "    end = time.perf_counter()       # czas końca\n",
    "    result = end - start\n",
    "    return result"
   ]
  },
  {
   "cell_type": "code",
   "execution_count": 89,
   "id": "23c9f12e",
   "metadata": {},
   "outputs": [],
   "source": [
    "def time_gauss_seidl(A,b, iter):\n",
    "    start = time.perf_counter()        # czas startu (wysoka rozdzielczość)\n",
    "    gauss_seidl(A,b,iter)\n",
    "    end = time.perf_counter()       # czas końca\n",
    "    result = end - start\n",
    "    return result"
   ]
  }
 ],
 "metadata": {
  "kernelspec": {
   "display_name": "venv",
   "language": "python",
   "name": "python3"
  },
  "language_info": {
   "codemirror_mode": {
    "name": "ipython",
    "version": 3
   },
   "file_extension": ".py",
   "mimetype": "text/x-python",
   "name": "python",
   "nbconvert_exporter": "python",
   "pygments_lexer": "ipython3",
   "version": "3.13.3"
  }
 },
 "nbformat": 4,
 "nbformat_minor": 5
}
