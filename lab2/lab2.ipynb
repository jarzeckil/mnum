{
 "cells": [
  {
   "cell_type": "code",
   "execution_count": 45,
   "id": "60f7bef4",
   "metadata": {},
   "outputs": [],
   "source": [
    "import numpy as np\n",
    "import re"
   ]
  },
  {
   "cell_type": "code",
   "execution_count": 48,
   "id": "4c2f8af8",
   "metadata": {},
   "outputs": [],
   "source": [
    "def load_A_b_from_m_file(filename):\n",
    "    with open(filename, 'r') as f:\n",
    "        content = f.read()\n",
    "\n",
    "    # Usuń komentarze i zbędne białe znaki\n",
    "    content = re.sub(r'%.*', '', content)\n",
    "\n",
    "    # Parsowanie macierzy A\n",
    "    A_match = re.search(r'A\\s*=\\s*\\[(.*?)\\];', content, re.DOTALL)\n",
    "    if not A_match:\n",
    "        raise ValueError(\"Nie znaleziono macierzy A\")\n",
    "    A_rows = A_match.group(1).strip().split('\\n')\n",
    "    A = [list(map(float, row.strip().split())) for row in A_rows]\n",
    "\n",
    "    # Parsowanie wektora b – obsługuje też ' na końcu\n",
    "    b_match = re.search(r'b\\s*=\\s*\\[(.*?)\\](\\'?);', content, re.DOTALL)\n",
    "    if not b_match:\n",
    "        raise ValueError(\"Nie znaleziono wektora b\")\n",
    "    b_data = b_match.group(1).strip().replace('\\n', ' ').split()\n",
    "    b = np.array(list(map(float, b_data)))\n",
    "    if b_match.group(2) == \"'\":  # był apostrof, więc wektor pionowy\n",
    "        b = b.reshape(-1, 1)\n",
    "    return np.array(A), b"
   ]
  },
  {
   "cell_type": "code",
   "execution_count": 43,
   "id": "4a4bf3f6",
   "metadata": {},
   "outputs": [
    {
     "data": {
      "text/plain": [
       "array([[ 1,  2,  5],\n",
       "       [ 3,  8,  1],\n",
       "       [ 2, -1,  4]])"
      ]
     },
     "execution_count": 43,
     "metadata": {},
     "output_type": "execute_result"
    }
   ],
   "source": [
    "A = np.array([[1,2,5],\n",
    "            [3,8,1],\n",
    "            [2,-1,4]])\n",
    "A"
   ]
  },
  {
   "cell_type": "code",
   "execution_count": 42,
   "id": "f6741dab",
   "metadata": {},
   "outputs": [
    {
     "data": {
      "text/plain": [
       "array([[  1,   2,   5],\n",
       "       [  0,   2, -14],\n",
       "       [  0,   0, -41]])"
      ]
     },
     "execution_count": 42,
     "metadata": {},
     "output_type": "execute_result"
    }
   ],
   "source": [
    "n = A.shape[0]\n",
    "for i in range(0,n):\n",
    "    for j in range(i+1,n):\n",
    "        e = A[j][i]/A[i][i]\n",
    "        for k in range(i,n):\n",
    "            A[j][k] = A[j][k]-e*A[i][k]\n",
    "A\n"
   ]
  },
  {
   "cell_type": "code",
   "execution_count": 44,
   "id": "4598727d",
   "metadata": {},
   "outputs": [
    {
     "data": {
      "text/plain": [
       "array([[ 1,  2,  5],\n",
       "       [ 3,  8,  1],\n",
       "       [ 2, -1,  4]])"
      ]
     },
     "execution_count": 44,
     "metadata": {},
     "output_type": "execute_result"
    }
   ],
   "source": [
    "A = np.array([[1,2,5],\n",
    "            [3,8,1],\n",
    "            [2,-1,4]])\n",
    "A"
   ]
  },
  {
   "cell_type": "markdown",
   "id": "3ed304af",
   "metadata": {},
   "source": [
    "1. Metoda Jacobiego"
   ]
  },
  {
   "cell_type": "code",
   "execution_count": null,
   "id": "68d40e16",
   "metadata": {},
   "outputs": [],
   "source": [
    "A, b = load_A_b_from_m_file('mac_1.m')\n"
   ]
  },
  {
   "cell_type": "code",
   "execution_count": 56,
   "id": "d83580e5",
   "metadata": {},
   "outputs": [
    {
     "data": {
      "text/plain": [
       "array([0., 0., 0., 0., 0., 0., 0.])"
      ]
     },
     "execution_count": 56,
     "metadata": {},
     "output_type": "execute_result"
    }
   ],
   "source": [
    "x = np.zeros(b.size)\n",
    "x"
   ]
  },
  {
   "cell_type": "code",
   "execution_count": null,
   "id": "2616e6e2",
   "metadata": {},
   "outputs": [
    {
     "name": "stdout",
     "output_type": "stream",
     "text": [
      "[ -3.33333333   0.          -3.33333333  -6.66666667 -13.33333333\n",
      "  13.33333333  10.        ]\n"
     ]
    },
    {
     "name": "stderr",
     "output_type": "stream",
     "text": [
      "/tmp/ipykernel_7794/1674003852.py:10: DeprecationWarning: Conversion of an array with ndim > 0 to a scalar is deprecated, and will error in future. Ensure you extract a single element from your array before performing this operation. (Deprecated NumPy 1.25.)\n",
      "  x[i] = 1/A[i][i]*(b[i]-sum)\n"
     ]
    }
   ],
   "source": [
    "def jacobi(A, b, iter):\n",
    "    n = b.size\n",
    "    x = np.zeros(n)\n",
    "    for iter in range(iter):\n",
    "        for i in range(n):\n",
    "            sum = 0\n",
    "            for j in range(n):\n",
    "                if(j!=i):\n",
    "                    sum += A[i][j]*x[j] \n",
    "            x[i] = 1/A[i][i]*(b[i]-sum)\n",
    "\n",
    "    return x\n",
    "\n",
    "print(jacobi(A,b))"
   ]
  }
 ],
 "metadata": {
  "kernelspec": {
   "display_name": "venv",
   "language": "python",
   "name": "python3"
  },
  "language_info": {
   "codemirror_mode": {
    "name": "ipython",
    "version": 3
   },
   "file_extension": ".py",
   "mimetype": "text/x-python",
   "name": "python",
   "nbconvert_exporter": "python",
   "pygments_lexer": "ipython3",
   "version": "3.13.3"
  }
 },
 "nbformat": 4,
 "nbformat_minor": 5
}
